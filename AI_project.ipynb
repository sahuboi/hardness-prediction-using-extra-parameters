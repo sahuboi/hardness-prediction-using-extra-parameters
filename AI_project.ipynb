{
  "nbformat": 4,
  "nbformat_minor": 0,
  "metadata": {
    "colab": {
      "provenance": [],
      "gpuType": "T4",
      "include_colab_link": true
    },
    "kernelspec": {
      "name": "python3",
      "display_name": "Python 3"
    },
    "language_info": {
      "name": "python"
    },
    "accelerator": "GPU",
    "gpuClass": "standard",
    "widgets": {
      "application/vnd.jupyter.widget-state+json": {
        "f03486162c9c48f593b545ee523f25ef": {
          "model_module": "@jupyter-widgets/controls",
          "model_name": "HBoxModel",
          "model_module_version": "1.5.0",
          "state": {
            "_dom_classes": [],
            "_model_module": "@jupyter-widgets/controls",
            "_model_module_version": "1.5.0",
            "_model_name": "HBoxModel",
            "_view_count": null,
            "_view_module": "@jupyter-widgets/controls",
            "_view_module_version": "1.5.0",
            "_view_name": "HBoxView",
            "box_style": "",
            "children": [
              "IPY_MODEL_2e6f1fd30d8a4ee8b85bb220f24260d4",
              "IPY_MODEL_298f2be4fa84490a805022bd7362e6b7",
              "IPY_MODEL_51af71d9313747cb8f53014d014dab29"
            ],
            "layout": "IPY_MODEL_6fa17fe8bffd4c5aa31078ac899f6966"
          }
        },
        "2e6f1fd30d8a4ee8b85bb220f24260d4": {
          "model_module": "@jupyter-widgets/controls",
          "model_name": "HTMLModel",
          "model_module_version": "1.5.0",
          "state": {
            "_dom_classes": [],
            "_model_module": "@jupyter-widgets/controls",
            "_model_module_version": "1.5.0",
            "_model_name": "HTMLModel",
            "_view_count": null,
            "_view_module": "@jupyter-widgets/controls",
            "_view_module_version": "1.5.0",
            "_view_name": "HTMLView",
            "description": "",
            "description_tooltip": null,
            "layout": "IPY_MODEL_9c520249b87248e195f26b5325661073",
            "placeholder": "​",
            "style": "IPY_MODEL_29933b20cd224d039699abdfe1a2f91b",
            "value": "100%"
          }
        },
        "298f2be4fa84490a805022bd7362e6b7": {
          "model_module": "@jupyter-widgets/controls",
          "model_name": "FloatProgressModel",
          "model_module_version": "1.5.0",
          "state": {
            "_dom_classes": [],
            "_model_module": "@jupyter-widgets/controls",
            "_model_module_version": "1.5.0",
            "_model_name": "FloatProgressModel",
            "_view_count": null,
            "_view_module": "@jupyter-widgets/controls",
            "_view_module_version": "1.5.0",
            "_view_name": "ProgressView",
            "bar_style": "success",
            "description": "",
            "description_tooltip": null,
            "layout": "IPY_MODEL_f830a98b38654377987f6268506df240",
            "max": 102,
            "min": 0,
            "orientation": "horizontal",
            "style": "IPY_MODEL_11845ee8d5de42238a70371f205bb1c9",
            "value": 102
          }
        },
        "51af71d9313747cb8f53014d014dab29": {
          "model_module": "@jupyter-widgets/controls",
          "model_name": "HTMLModel",
          "model_module_version": "1.5.0",
          "state": {
            "_dom_classes": [],
            "_model_module": "@jupyter-widgets/controls",
            "_model_module_version": "1.5.0",
            "_model_name": "HTMLModel",
            "_view_count": null,
            "_view_module": "@jupyter-widgets/controls",
            "_view_module_version": "1.5.0",
            "_view_name": "HTMLView",
            "description": "",
            "description_tooltip": null,
            "layout": "IPY_MODEL_c5ae2363f90e4d239b41e0d57c7de279",
            "placeholder": "​",
            "style": "IPY_MODEL_f2fd9faa12d6458dbf0f7e0adadb4468",
            "value": " 102/102 [01:58&lt;00:00,  1.26s/it]"
          }
        },
        "6fa17fe8bffd4c5aa31078ac899f6966": {
          "model_module": "@jupyter-widgets/base",
          "model_name": "LayoutModel",
          "model_module_version": "1.2.0",
          "state": {
            "_model_module": "@jupyter-widgets/base",
            "_model_module_version": "1.2.0",
            "_model_name": "LayoutModel",
            "_view_count": null,
            "_view_module": "@jupyter-widgets/base",
            "_view_module_version": "1.2.0",
            "_view_name": "LayoutView",
            "align_content": null,
            "align_items": null,
            "align_self": null,
            "border": null,
            "bottom": null,
            "display": null,
            "flex": null,
            "flex_flow": null,
            "grid_area": null,
            "grid_auto_columns": null,
            "grid_auto_flow": null,
            "grid_auto_rows": null,
            "grid_column": null,
            "grid_gap": null,
            "grid_row": null,
            "grid_template_areas": null,
            "grid_template_columns": null,
            "grid_template_rows": null,
            "height": null,
            "justify_content": null,
            "justify_items": null,
            "left": null,
            "margin": null,
            "max_height": null,
            "max_width": null,
            "min_height": null,
            "min_width": null,
            "object_fit": null,
            "object_position": null,
            "order": null,
            "overflow": null,
            "overflow_x": null,
            "overflow_y": null,
            "padding": null,
            "right": null,
            "top": null,
            "visibility": null,
            "width": null
          }
        },
        "9c520249b87248e195f26b5325661073": {
          "model_module": "@jupyter-widgets/base",
          "model_name": "LayoutModel",
          "model_module_version": "1.2.0",
          "state": {
            "_model_module": "@jupyter-widgets/base",
            "_model_module_version": "1.2.0",
            "_model_name": "LayoutModel",
            "_view_count": null,
            "_view_module": "@jupyter-widgets/base",
            "_view_module_version": "1.2.0",
            "_view_name": "LayoutView",
            "align_content": null,
            "align_items": null,
            "align_self": null,
            "border": null,
            "bottom": null,
            "display": null,
            "flex": null,
            "flex_flow": null,
            "grid_area": null,
            "grid_auto_columns": null,
            "grid_auto_flow": null,
            "grid_auto_rows": null,
            "grid_column": null,
            "grid_gap": null,
            "grid_row": null,
            "grid_template_areas": null,
            "grid_template_columns": null,
            "grid_template_rows": null,
            "height": null,
            "justify_content": null,
            "justify_items": null,
            "left": null,
            "margin": null,
            "max_height": null,
            "max_width": null,
            "min_height": null,
            "min_width": null,
            "object_fit": null,
            "object_position": null,
            "order": null,
            "overflow": null,
            "overflow_x": null,
            "overflow_y": null,
            "padding": null,
            "right": null,
            "top": null,
            "visibility": null,
            "width": null
          }
        },
        "29933b20cd224d039699abdfe1a2f91b": {
          "model_module": "@jupyter-widgets/controls",
          "model_name": "DescriptionStyleModel",
          "model_module_version": "1.5.0",
          "state": {
            "_model_module": "@jupyter-widgets/controls",
            "_model_module_version": "1.5.0",
            "_model_name": "DescriptionStyleModel",
            "_view_count": null,
            "_view_module": "@jupyter-widgets/base",
            "_view_module_version": "1.2.0",
            "_view_name": "StyleView",
            "description_width": ""
          }
        },
        "f830a98b38654377987f6268506df240": {
          "model_module": "@jupyter-widgets/base",
          "model_name": "LayoutModel",
          "model_module_version": "1.2.0",
          "state": {
            "_model_module": "@jupyter-widgets/base",
            "_model_module_version": "1.2.0",
            "_model_name": "LayoutModel",
            "_view_count": null,
            "_view_module": "@jupyter-widgets/base",
            "_view_module_version": "1.2.0",
            "_view_name": "LayoutView",
            "align_content": null,
            "align_items": null,
            "align_self": null,
            "border": null,
            "bottom": null,
            "display": null,
            "flex": null,
            "flex_flow": null,
            "grid_area": null,
            "grid_auto_columns": null,
            "grid_auto_flow": null,
            "grid_auto_rows": null,
            "grid_column": null,
            "grid_gap": null,
            "grid_row": null,
            "grid_template_areas": null,
            "grid_template_columns": null,
            "grid_template_rows": null,
            "height": null,
            "justify_content": null,
            "justify_items": null,
            "left": null,
            "margin": null,
            "max_height": null,
            "max_width": null,
            "min_height": null,
            "min_width": null,
            "object_fit": null,
            "object_position": null,
            "order": null,
            "overflow": null,
            "overflow_x": null,
            "overflow_y": null,
            "padding": null,
            "right": null,
            "top": null,
            "visibility": null,
            "width": null
          }
        },
        "11845ee8d5de42238a70371f205bb1c9": {
          "model_module": "@jupyter-widgets/controls",
          "model_name": "ProgressStyleModel",
          "model_module_version": "1.5.0",
          "state": {
            "_model_module": "@jupyter-widgets/controls",
            "_model_module_version": "1.5.0",
            "_model_name": "ProgressStyleModel",
            "_view_count": null,
            "_view_module": "@jupyter-widgets/base",
            "_view_module_version": "1.2.0",
            "_view_name": "StyleView",
            "bar_color": null,
            "description_width": ""
          }
        },
        "c5ae2363f90e4d239b41e0d57c7de279": {
          "model_module": "@jupyter-widgets/base",
          "model_name": "LayoutModel",
          "model_module_version": "1.2.0",
          "state": {
            "_model_module": "@jupyter-widgets/base",
            "_model_module_version": "1.2.0",
            "_model_name": "LayoutModel",
            "_view_count": null,
            "_view_module": "@jupyter-widgets/base",
            "_view_module_version": "1.2.0",
            "_view_name": "LayoutView",
            "align_content": null,
            "align_items": null,
            "align_self": null,
            "border": null,
            "bottom": null,
            "display": null,
            "flex": null,
            "flex_flow": null,
            "grid_area": null,
            "grid_auto_columns": null,
            "grid_auto_flow": null,
            "grid_auto_rows": null,
            "grid_column": null,
            "grid_gap": null,
            "grid_row": null,
            "grid_template_areas": null,
            "grid_template_columns": null,
            "grid_template_rows": null,
            "height": null,
            "justify_content": null,
            "justify_items": null,
            "left": null,
            "margin": null,
            "max_height": null,
            "max_width": null,
            "min_height": null,
            "min_width": null,
            "object_fit": null,
            "object_position": null,
            "order": null,
            "overflow": null,
            "overflow_x": null,
            "overflow_y": null,
            "padding": null,
            "right": null,
            "top": null,
            "visibility": null,
            "width": null
          }
        },
        "f2fd9faa12d6458dbf0f7e0adadb4468": {
          "model_module": "@jupyter-widgets/controls",
          "model_name": "DescriptionStyleModel",
          "model_module_version": "1.5.0",
          "state": {
            "_model_module": "@jupyter-widgets/controls",
            "_model_module_version": "1.5.0",
            "_model_name": "DescriptionStyleModel",
            "_view_count": null,
            "_view_module": "@jupyter-widgets/base",
            "_view_module_version": "1.2.0",
            "_view_name": "StyleView",
            "description_width": ""
          }
        }
      }
    }
  },
  "cells": [
    {
      "cell_type": "markdown",
      "metadata": {
        "id": "view-in-github",
        "colab_type": "text"
      },
      "source": [
        "<a href=\"https://colab.research.google.com/github/sahuboi/hardness-prediction-using-extra-parameters/blob/main/AI_project.ipynb\" target=\"_parent\"><img src=\"https://colab.research.google.com/assets/colab-badge.svg\" alt=\"Open In Colab\"/></a>"
      ]
    },
    {
      "cell_type": "code",
      "source": [
        "!pip install catboost"
      ],
      "metadata": {
        "id": "HZk20dGDQzVR",
        "colab": {
          "base_uri": "https://localhost:8080/"
        },
        "outputId": "4c3ce02e-ca17-4ac0-aabd-5476b28f2084"
      },
      "execution_count": null,
      "outputs": [
        {
          "output_type": "stream",
          "name": "stdout",
          "text": [
            "Looking in indexes: https://pypi.org/simple, https://us-python.pkg.dev/colab-wheels/public/simple/\n",
            "Requirement already satisfied: catboost in /usr/local/lib/python3.10/dist-packages (1.2)\n",
            "Requirement already satisfied: graphviz in /usr/local/lib/python3.10/dist-packages (from catboost) (0.20.1)\n",
            "Requirement already satisfied: matplotlib in /usr/local/lib/python3.10/dist-packages (from catboost) (3.7.1)\n",
            "Requirement already satisfied: numpy>=1.16.0 in /usr/local/lib/python3.10/dist-packages (from catboost) (1.22.4)\n",
            "Requirement already satisfied: pandas>=0.24 in /usr/local/lib/python3.10/dist-packages (from catboost) (1.5.3)\n",
            "Requirement already satisfied: scipy in /usr/local/lib/python3.10/dist-packages (from catboost) (1.10.1)\n",
            "Requirement already satisfied: plotly in /usr/local/lib/python3.10/dist-packages (from catboost) (5.13.1)\n",
            "Requirement already satisfied: six in /usr/local/lib/python3.10/dist-packages (from catboost) (1.16.0)\n",
            "Requirement already satisfied: python-dateutil>=2.8.1 in /usr/local/lib/python3.10/dist-packages (from pandas>=0.24->catboost) (2.8.2)\n",
            "Requirement already satisfied: pytz>=2020.1 in /usr/local/lib/python3.10/dist-packages (from pandas>=0.24->catboost) (2022.7.1)\n",
            "Requirement already satisfied: contourpy>=1.0.1 in /usr/local/lib/python3.10/dist-packages (from matplotlib->catboost) (1.0.7)\n",
            "Requirement already satisfied: cycler>=0.10 in /usr/local/lib/python3.10/dist-packages (from matplotlib->catboost) (0.11.0)\n",
            "Requirement already satisfied: fonttools>=4.22.0 in /usr/local/lib/python3.10/dist-packages (from matplotlib->catboost) (4.39.3)\n",
            "Requirement already satisfied: kiwisolver>=1.0.1 in /usr/local/lib/python3.10/dist-packages (from matplotlib->catboost) (1.4.4)\n",
            "Requirement already satisfied: packaging>=20.0 in /usr/local/lib/python3.10/dist-packages (from matplotlib->catboost) (23.1)\n",
            "Requirement already satisfied: pillow>=6.2.0 in /usr/local/lib/python3.10/dist-packages (from matplotlib->catboost) (8.4.0)\n",
            "Requirement already satisfied: pyparsing>=2.3.1 in /usr/local/lib/python3.10/dist-packages (from matplotlib->catboost) (3.0.9)\n",
            "Requirement already satisfied: tenacity>=6.2.0 in /usr/local/lib/python3.10/dist-packages (from plotly->catboost) (8.2.2)\n"
          ]
        }
      ]
    },
    {
      "cell_type": "code",
      "source": [
        "from numpy import mean\n",
        "from numpy import std\n",
        "from sklearn.datasets import make_regression\n",
        "from sklearn.linear_model import LinearRegression\n",
        "from sklearn.neighbors import KNeighborsRegressor\n",
        "from sklearn.tree import DecisionTreeRegressor\n",
        "from sklearn.svm import SVR\n",
        "from sklearn.ensemble import StackingRegressor\n",
        "from sklearn.datasets import make_classification\n",
        "from sklearn.model_selection import cross_val_score\n",
        "from sklearn.model_selection import RepeatedStratifiedKFold\n",
        "from sklearn.linear_model import LogisticRegression, Lasso, Ridge, ElasticNet\n",
        "from sklearn.ensemble import RandomForestRegressor, AdaBoostRegressor\n",
        "from sklearn.datasets import make_regression\n",
        "from sklearn.ensemble import GradientBoostingRegressor\n",
        "from xgboost import XGBRegressor\n",
        "from catboost import CatBoostRegressor\n",
        "from sklearn.model_selection import train_test_split\n",
        "from sklearn.svm import SVC\n",
        "from sklearn.naive_bayes import GaussianNB\n",
        "from sklearn.ensemble import StackingClassifier\n",
        "from matplotlib import pyplot as plt\n",
        "\n",
        "import pandas as pd\n",
        "import numpy as np\n",
        "from sklearn.ensemble import StackingRegressor\n",
        "from catboost import CatBoostRegressor\n",
        "from xgboost import XGBRegressor\n",
        "from tensorflow.keras.models import Model\n",
        "from tensorflow.keras.models import Sequential\n",
        "from tensorflow.keras.layers import Add, Input, Dense, Dropout, BatchNormalization, Embedding, Flatten, Concatenate\n",
        "from tensorflow.keras.optimizers import Adam\n",
        "from keras.layers import concatenate\n",
        "from tensorflow.keras import regularizers\n",
        "from keras.regularizers import l1\n",
        "from keras.regularizers import l2\n",
        "from tensorflow.keras.wrappers.scikit_learn import KerasRegressor\n",
        "from sklearn.linear_model import LinearRegression\n",
        "from sklearn.datasets import make_regression\n",
        "from sklearn.model_selection import train_test_split\n",
        "\n",
        "\n",
        "from sklearn.metrics import f1_score\n",
        "from sklearn.model_selection import train_test_split\n",
        "from sklearn.preprocessing import StandardScaler\n",
        "from xgboost import XGBClassifier\n",
        "\n",
        "from matplotlib import pyplot as pl\n",
        "from scipy.stats import sem\n",
        "\n",
        "import pandas as pd\n",
        "import numpy as np\n",
        "\n",
        "import pickle\n",
        "import random\n",
        "\n",
        "import sys\n",
        "import os"
      ],
      "metadata": {
        "id": "T6hxA6NQPwn8"
      },
      "execution_count": null,
      "outputs": []
    },
    {
      "cell_type": "code",
      "source": [
        "# importing modules \n",
        "import pandas as pd\n",
        "import numpy as np\n",
        "from sklearn.model_selection import train_test_split\n",
        "# making dataset from the csv file\n",
        "data=pd.read_csv(\"dataset_hardness.csv\")\n",
        "data.head()"
      ],
      "metadata": {
        "colab": {
          "base_uri": "https://localhost:8080/",
          "height": 270
        },
        "id": "OFXA6TwBWv0l",
        "outputId": "480b620c-305a-4222-e1ca-3a5740487f29"
      },
      "execution_count": null,
      "outputs": [
        {
          "output_type": "execute_result",
          "data": {
            "text/plain": [
              "   SiO2  Na2O  Al2O3  CaO  TiO2  MgO  P2O5  B2O3  Li2O  Er2O3  K2O  Yb2O3  \\\n",
              "0  86.0  10.0    0.0  0.0   4.0  0.0   0.0   0.0   0.0    0.0  0.0    0.0   \n",
              "1  83.0  10.0    0.0  0.0   7.0  0.0   0.0   0.0   0.0    0.0  0.0    0.0   \n",
              "2  80.0  10.0    0.0  0.0  10.0  0.0   0.0   0.0   0.0    0.0  0.0    0.0   \n",
              "3  81.0  15.0    0.0  0.0   4.0  0.0   0.0   0.0   0.0    0.0  0.0    0.0   \n",
              "4  78.0  15.0    0.0  0.0   7.0  0.0   0.0   0.0   0.0    0.0  0.0    0.0   \n",
              "\n",
              "   MnO  Fe2O3  Load  T_annealing  TIME    Hardness                PII Remarks  \n",
              "0    0      0    50        600.0   2.0  6000000000  S0022309315301873     NaN  \n",
              "1    0      0    50        600.0   2.0  5100000000  S0022309315301873     NaN  \n",
              "2    0      0    50        600.0   2.0  6200000000  S0022309315301873     NaN  \n",
              "3    0      0    50        600.0   2.0  5100000000  S0022309315301873     NaN  \n",
              "4    0      0    50        600.0   2.0  6200000000  S0022309315301873     NaN  "
            ],
            "text/html": [
              "\n",
              "  <div id=\"df-d7ca2c30-f045-4fe0-8f1e-137fc76cfa7b\">\n",
              "    <div class=\"colab-df-container\">\n",
              "      <div>\n",
              "<style scoped>\n",
              "    .dataframe tbody tr th:only-of-type {\n",
              "        vertical-align: middle;\n",
              "    }\n",
              "\n",
              "    .dataframe tbody tr th {\n",
              "        vertical-align: top;\n",
              "    }\n",
              "\n",
              "    .dataframe thead th {\n",
              "        text-align: right;\n",
              "    }\n",
              "</style>\n",
              "<table border=\"1\" class=\"dataframe\">\n",
              "  <thead>\n",
              "    <tr style=\"text-align: right;\">\n",
              "      <th></th>\n",
              "      <th>SiO2</th>\n",
              "      <th>Na2O</th>\n",
              "      <th>Al2O3</th>\n",
              "      <th>CaO</th>\n",
              "      <th>TiO2</th>\n",
              "      <th>MgO</th>\n",
              "      <th>P2O5</th>\n",
              "      <th>B2O3</th>\n",
              "      <th>Li2O</th>\n",
              "      <th>Er2O3</th>\n",
              "      <th>K2O</th>\n",
              "      <th>Yb2O3</th>\n",
              "      <th>MnO</th>\n",
              "      <th>Fe2O3</th>\n",
              "      <th>Load</th>\n",
              "      <th>T_annealing</th>\n",
              "      <th>TIME</th>\n",
              "      <th>Hardness</th>\n",
              "      <th>PII</th>\n",
              "      <th>Remarks</th>\n",
              "    </tr>\n",
              "  </thead>\n",
              "  <tbody>\n",
              "    <tr>\n",
              "      <th>0</th>\n",
              "      <td>86.0</td>\n",
              "      <td>10.0</td>\n",
              "      <td>0.0</td>\n",
              "      <td>0.0</td>\n",
              "      <td>4.0</td>\n",
              "      <td>0.0</td>\n",
              "      <td>0.0</td>\n",
              "      <td>0.0</td>\n",
              "      <td>0.0</td>\n",
              "      <td>0.0</td>\n",
              "      <td>0.0</td>\n",
              "      <td>0.0</td>\n",
              "      <td>0</td>\n",
              "      <td>0</td>\n",
              "      <td>50</td>\n",
              "      <td>600.0</td>\n",
              "      <td>2.0</td>\n",
              "      <td>6000000000</td>\n",
              "      <td>S0022309315301873</td>\n",
              "      <td>NaN</td>\n",
              "    </tr>\n",
              "    <tr>\n",
              "      <th>1</th>\n",
              "      <td>83.0</td>\n",
              "      <td>10.0</td>\n",
              "      <td>0.0</td>\n",
              "      <td>0.0</td>\n",
              "      <td>7.0</td>\n",
              "      <td>0.0</td>\n",
              "      <td>0.0</td>\n",
              "      <td>0.0</td>\n",
              "      <td>0.0</td>\n",
              "      <td>0.0</td>\n",
              "      <td>0.0</td>\n",
              "      <td>0.0</td>\n",
              "      <td>0</td>\n",
              "      <td>0</td>\n",
              "      <td>50</td>\n",
              "      <td>600.0</td>\n",
              "      <td>2.0</td>\n",
              "      <td>5100000000</td>\n",
              "      <td>S0022309315301873</td>\n",
              "      <td>NaN</td>\n",
              "    </tr>\n",
              "    <tr>\n",
              "      <th>2</th>\n",
              "      <td>80.0</td>\n",
              "      <td>10.0</td>\n",
              "      <td>0.0</td>\n",
              "      <td>0.0</td>\n",
              "      <td>10.0</td>\n",
              "      <td>0.0</td>\n",
              "      <td>0.0</td>\n",
              "      <td>0.0</td>\n",
              "      <td>0.0</td>\n",
              "      <td>0.0</td>\n",
              "      <td>0.0</td>\n",
              "      <td>0.0</td>\n",
              "      <td>0</td>\n",
              "      <td>0</td>\n",
              "      <td>50</td>\n",
              "      <td>600.0</td>\n",
              "      <td>2.0</td>\n",
              "      <td>6200000000</td>\n",
              "      <td>S0022309315301873</td>\n",
              "      <td>NaN</td>\n",
              "    </tr>\n",
              "    <tr>\n",
              "      <th>3</th>\n",
              "      <td>81.0</td>\n",
              "      <td>15.0</td>\n",
              "      <td>0.0</td>\n",
              "      <td>0.0</td>\n",
              "      <td>4.0</td>\n",
              "      <td>0.0</td>\n",
              "      <td>0.0</td>\n",
              "      <td>0.0</td>\n",
              "      <td>0.0</td>\n",
              "      <td>0.0</td>\n",
              "      <td>0.0</td>\n",
              "      <td>0.0</td>\n",
              "      <td>0</td>\n",
              "      <td>0</td>\n",
              "      <td>50</td>\n",
              "      <td>600.0</td>\n",
              "      <td>2.0</td>\n",
              "      <td>5100000000</td>\n",
              "      <td>S0022309315301873</td>\n",
              "      <td>NaN</td>\n",
              "    </tr>\n",
              "    <tr>\n",
              "      <th>4</th>\n",
              "      <td>78.0</td>\n",
              "      <td>15.0</td>\n",
              "      <td>0.0</td>\n",
              "      <td>0.0</td>\n",
              "      <td>7.0</td>\n",
              "      <td>0.0</td>\n",
              "      <td>0.0</td>\n",
              "      <td>0.0</td>\n",
              "      <td>0.0</td>\n",
              "      <td>0.0</td>\n",
              "      <td>0.0</td>\n",
              "      <td>0.0</td>\n",
              "      <td>0</td>\n",
              "      <td>0</td>\n",
              "      <td>50</td>\n",
              "      <td>600.0</td>\n",
              "      <td>2.0</td>\n",
              "      <td>6200000000</td>\n",
              "      <td>S0022309315301873</td>\n",
              "      <td>NaN</td>\n",
              "    </tr>\n",
              "  </tbody>\n",
              "</table>\n",
              "</div>\n",
              "      <button class=\"colab-df-convert\" onclick=\"convertToInteractive('df-d7ca2c30-f045-4fe0-8f1e-137fc76cfa7b')\"\n",
              "              title=\"Convert this dataframe to an interactive table.\"\n",
              "              style=\"display:none;\">\n",
              "        \n",
              "  <svg xmlns=\"http://www.w3.org/2000/svg\" height=\"24px\"viewBox=\"0 0 24 24\"\n",
              "       width=\"24px\">\n",
              "    <path d=\"M0 0h24v24H0V0z\" fill=\"none\"/>\n",
              "    <path d=\"M18.56 5.44l.94 2.06.94-2.06 2.06-.94-2.06-.94-.94-2.06-.94 2.06-2.06.94zm-11 1L8.5 8.5l.94-2.06 2.06-.94-2.06-.94L8.5 2.5l-.94 2.06-2.06.94zm10 10l.94 2.06.94-2.06 2.06-.94-2.06-.94-.94-2.06-.94 2.06-2.06.94z\"/><path d=\"M17.41 7.96l-1.37-1.37c-.4-.4-.92-.59-1.43-.59-.52 0-1.04.2-1.43.59L10.3 9.45l-7.72 7.72c-.78.78-.78 2.05 0 2.83L4 21.41c.39.39.9.59 1.41.59.51 0 1.02-.2 1.41-.59l7.78-7.78 2.81-2.81c.8-.78.8-2.07 0-2.86zM5.41 20L4 18.59l7.72-7.72 1.47 1.35L5.41 20z\"/>\n",
              "  </svg>\n",
              "      </button>\n",
              "      \n",
              "  <style>\n",
              "    .colab-df-container {\n",
              "      display:flex;\n",
              "      flex-wrap:wrap;\n",
              "      gap: 12px;\n",
              "    }\n",
              "\n",
              "    .colab-df-convert {\n",
              "      background-color: #E8F0FE;\n",
              "      border: none;\n",
              "      border-radius: 50%;\n",
              "      cursor: pointer;\n",
              "      display: none;\n",
              "      fill: #1967D2;\n",
              "      height: 32px;\n",
              "      padding: 0 0 0 0;\n",
              "      width: 32px;\n",
              "    }\n",
              "\n",
              "    .colab-df-convert:hover {\n",
              "      background-color: #E2EBFA;\n",
              "      box-shadow: 0px 1px 2px rgba(60, 64, 67, 0.3), 0px 1px 3px 1px rgba(60, 64, 67, 0.15);\n",
              "      fill: #174EA6;\n",
              "    }\n",
              "\n",
              "    [theme=dark] .colab-df-convert {\n",
              "      background-color: #3B4455;\n",
              "      fill: #D2E3FC;\n",
              "    }\n",
              "\n",
              "    [theme=dark] .colab-df-convert:hover {\n",
              "      background-color: #434B5C;\n",
              "      box-shadow: 0px 1px 3px 1px rgba(0, 0, 0, 0.15);\n",
              "      filter: drop-shadow(0px 1px 2px rgba(0, 0, 0, 0.3));\n",
              "      fill: #FFFFFF;\n",
              "    }\n",
              "  </style>\n",
              "\n",
              "      <script>\n",
              "        const buttonEl =\n",
              "          document.querySelector('#df-d7ca2c30-f045-4fe0-8f1e-137fc76cfa7b button.colab-df-convert');\n",
              "        buttonEl.style.display =\n",
              "          google.colab.kernel.accessAllowed ? 'block' : 'none';\n",
              "\n",
              "        async function convertToInteractive(key) {\n",
              "          const element = document.querySelector('#df-d7ca2c30-f045-4fe0-8f1e-137fc76cfa7b');\n",
              "          const dataTable =\n",
              "            await google.colab.kernel.invokeFunction('convertToInteractive',\n",
              "                                                     [key], {});\n",
              "          if (!dataTable) return;\n",
              "\n",
              "          const docLinkHtml = 'Like what you see? Visit the ' +\n",
              "            '<a target=\"_blank\" href=https://colab.research.google.com/notebooks/data_table.ipynb>data table notebook</a>'\n",
              "            + ' to learn more about interactive tables.';\n",
              "          element.innerHTML = '';\n",
              "          dataTable['output_type'] = 'display_data';\n",
              "          await google.colab.output.renderOutput(dataTable, element);\n",
              "          const docLink = document.createElement('div');\n",
              "          docLink.innerHTML = docLinkHtml;\n",
              "          element.appendChild(docLink);\n",
              "        }\n",
              "      </script>\n",
              "    </div>\n",
              "  </div>\n",
              "  "
            ]
          },
          "metadata": {},
          "execution_count": 46
        }
      ]
    },
    {
      "cell_type": "code",
      "source": [
        "# the total tags of the data\n",
        "df = data[['SiO2', 'Na2O', 'Al2O3', 'CaO', 'TiO2', 'MgO', 'P2O5', 'B2O3', 'Li2O',\n",
        "       'Er2O3', 'K2O', 'Yb2O3', 'MnO', 'Fe2O3','Load','T_annealing','Hardness']]\n",
        "# the input data attributes\n",
        "X = df[['SiO2', 'Na2O', 'Al2O3', 'CaO', 'TiO2', 'MgO', 'P2O5', 'B2O3', 'Li2O',\n",
        "       'Er2O3', 'K2O', 'Yb2O3', 'MnO', 'Fe2O3','Load','T_annealing']]\n",
        "# the output data attribute\n",
        "y = df[\"Hardness\"]\n",
        "\n",
        "# splititng data for training and testing\n",
        "X_train, X_rem, y_train, y_rem = train_test_split(X, y, train_size=0.8, random_state = 0)\n",
        "X_val, X_test, y_val, y_test = train_test_split(X_rem, y_rem, test_size = 0.5, random_state = 0)"
      ],
      "metadata": {
        "id": "HW2A5eMttAIj"
      },
      "execution_count": null,
      "outputs": []
    },
    {
      "cell_type": "code",
      "source": [
        "# linear regression model\n",
        "lin_regr = LinearRegression()\n",
        "lin_regr.fit(X_train,y_train)\n",
        "y_pred = lin_regr.predict(X_train)\n",
        "y_pred1 = lin_regr.predict(X_test)\n",
        "from sklearn.metrics import r2_score\n",
        "# printing r2 scores\n",
        "lin_regr_score = r2_score(y_train, y_pred)\n",
        "print(lin_regr_score)\n",
        "lin_regr_score1 = r2_score(y_test, y_pred1)\n",
        "print(lin_regr_score1)"
      ],
      "metadata": {
        "colab": {
          "base_uri": "https://localhost:8080/"
        },
        "id": "cRgw5vZPElz_",
        "outputId": "9f0acd5e-7eb9-4dff-f81c-6e2fd5dadae0"
      },
      "execution_count": null,
      "outputs": [
        {
          "output_type": "stream",
          "name": "stdout",
          "text": [
            "0.7649544640156414\n",
            "0.8569099516531348\n"
          ]
        }
      ]
    },
    {
      "cell_type": "code",
      "source": [
        "# random forest regression model\n",
        "ran_for = RandomForestRegressor()\n",
        "ran_for.fit(X_train,y_train)\n",
        "y_pred = ran_for.predict(X_train)\n",
        "y_pred1 = ran_for.predict(X_test)\n",
        "\n",
        "# printing r2 scores\n",
        "ran_for_score = r2_score(y_train, y_pred)\n",
        "print(ran_for_score)\n",
        "ran_for_score1 = r2_score(y_test, y_pred1)\n",
        "print(ran_for_score1)"
      ],
      "metadata": {
        "colab": {
          "base_uri": "https://localhost:8080/"
        },
        "id": "mJVr8Z0AF-Z0",
        "outputId": "6411c464-c8f0-4022-dd30-a15ca8abe03a"
      },
      "execution_count": null,
      "outputs": [
        {
          "output_type": "stream",
          "name": "stdout",
          "text": [
            "0.9614169246325794\n",
            "0.8456068010546665\n"
          ]
        }
      ]
    },
    {
      "cell_type": "code",
      "source": [
        "# gradient boosting regression model\n",
        "gbr = GradientBoostingRegressor()\n",
        "gbr.fit(X_train,y_train)\n",
        "y_pred = gbr.predict(X_train)\n",
        "y_pred1 = gbr.predict(X_test)\n",
        "\n",
        "# printing r2 scores\n",
        "gbr_score = r2_score(y_train, y_pred)\n",
        "print(gbr_score)\n",
        "gbr_score1 = r2_score(y_test, y_pred1)\n",
        "print(gbr_score1)"
      ],
      "metadata": {
        "colab": {
          "base_uri": "https://localhost:8080/"
        },
        "id": "p5xYEfDQG2B9",
        "outputId": "fe8d753b-5766-413b-cf24-f8e5dd6fa62a"
      },
      "execution_count": null,
      "outputs": [
        {
          "output_type": "stream",
          "name": "stdout",
          "text": [
            "0.986697562631916\n",
            "0.8512286155825115\n"
          ]
        }
      ]
    },
    {
      "cell_type": "code",
      "source": [
        "# lasso regression model\n",
        "lasso = Lasso()\n",
        "lasso.fit(X_train,y_train)\n",
        "y_pred = lasso.predict(X_train)\n",
        "y_pred1 = lasso.predict(X_test)\n",
        "\n",
        "# printing r2 scores\n",
        "lasso_score = r2_score(y_train, y_pred)\n",
        "print(lasso_score)\n",
        "lasso_score1 = r2_score(y_test, y_pred1)\n",
        "print(lasso_score1)"
      ],
      "metadata": {
        "colab": {
          "base_uri": "https://localhost:8080/"
        },
        "id": "S3ltwMtzHoqV",
        "outputId": "8ccc7ca1-4be7-4e10-9cee-746fee4f8a23"
      },
      "execution_count": null,
      "outputs": [
        {
          "output_type": "stream",
          "name": "stdout",
          "text": [
            "0.7587609595533347\n",
            "0.8926265382027361\n"
          ]
        },
        {
          "output_type": "stream",
          "name": "stderr",
          "text": [
            "Objective did not converge. You might want to increase the number of iterations, check the scale of the features or consider increasing regularisation. Duality gap: 2.115e+19, tolerance: 1.753e+16\n"
          ]
        }
      ]
    },
    {
      "cell_type": "code",
      "source": [
        "# ridge regression model\n",
        "ridge = Ridge()\n",
        "ridge.fit(X_train,y_train)\n",
        "y_pred = ridge.predict(X_train)\n",
        "y_pred1 = ridge.predict(X_test)\n",
        "\n",
        "# printing r2 scores\n",
        "ridge_score = r2_score(y_train, y_pred)\n",
        "print(ridge_score)\n",
        "ridge_score1 = r2_score(y_test, y_pred1)\n",
        "print(ridge_score1)"
      ],
      "metadata": {
        "colab": {
          "base_uri": "https://localhost:8080/"
        },
        "id": "MOoeH8NcIOVj",
        "outputId": "5f46895d-7da0-4e1d-8455-ae60a9334a7e"
      },
      "execution_count": null,
      "outputs": [
        {
          "output_type": "stream",
          "name": "stdout",
          "text": [
            "0.7573481634864512\n",
            "0.9059732958621359\n"
          ]
        }
      ]
    },
    {
      "cell_type": "code",
      "source": [
        "# elastic net\n",
        "eln = ElasticNet()\n",
        "eln.fit(X_train,y_train)\n",
        "y_pred = eln.predict(X_train)\n",
        "y_pred1 = eln.predict(X_test)\n",
        "\n",
        "# printing r2 scores\n",
        "eln_score = r2_score(y_train, y_pred)\n",
        "print(eln_score)\n",
        "eln_score1 = r2_score(y_test, y_pred1)\n",
        "print(eln_score1)"
      ],
      "metadata": {
        "colab": {
          "base_uri": "https://localhost:8080/"
        },
        "id": "soINbdQLIVM-",
        "outputId": "5003a028-bb0d-4c8d-c131-5567d0fca06c"
      },
      "execution_count": null,
      "outputs": [
        {
          "output_type": "stream",
          "name": "stdout",
          "text": [
            "0.7517026829319425\n",
            "0.917261060348693\n"
          ]
        },
        {
          "output_type": "stream",
          "name": "stderr",
          "text": [
            "Objective did not converge. You might want to increase the number of iterations, check the scale of the features or consider increasing regularisation. Duality gap: 2.203e+19, tolerance: 1.753e+16\n"
          ]
        }
      ]
    },
    {
      "cell_type": "code",
      "source": [
        "# knn model\n",
        "knn = KNeighborsRegressor()\n",
        "knn.fit(X_train,y_train)\n",
        "y_pred = knn.predict(X_train)\n",
        "y_pred1 = knn.predict(X_test)\n",
        "\n",
        "# printing r2 scores\n",
        "knn_score = r2_score(y_train, y_pred)\n",
        "print(knn_score)\n",
        "knn_score1 = r2_score(y_test, y_pred1)\n",
        "print(knn_score1)"
      ],
      "metadata": {
        "colab": {
          "base_uri": "https://localhost:8080/"
        },
        "id": "GKiIcJGVMeN1",
        "outputId": "5c786b76-8963-45eb-fea8-3752d3ad14a0"
      },
      "execution_count": null,
      "outputs": [
        {
          "output_type": "stream",
          "name": "stdout",
          "text": [
            "0.8284131039395215\n",
            "0.925756008281763\n"
          ]
        }
      ]
    },
    {
      "cell_type": "code",
      "source": [
        "# defining the first meta model\n",
        "level0 = list()\n",
        "\n",
        "estimators_list = [\n",
        "        ('abr', AdaBoostRegressor())\n",
        "]\n",
        "\n",
        "# stacking the levels to make the meta model\n",
        "meta_model1 = StackingRegressor(estimators=estimators_list, final_estimator=KNeighborsRegressor(), cv=5)\n",
        "meta_model1.fit(X_train, y_train)"
      ],
      "metadata": {
        "colab": {
          "base_uri": "https://localhost:8080/",
          "height": 163
        },
        "id": "D0LTft5vK-G9",
        "outputId": "dde48e9b-c820-4d4f-ca0e-45a964e04951"
      },
      "execution_count": null,
      "outputs": [
        {
          "output_type": "execute_result",
          "data": {
            "text/plain": [
              "StackingRegressor(cv=5, estimators=[('abr', AdaBoostRegressor())],\n",
              "                  final_estimator=KNeighborsRegressor())"
            ],
            "text/html": [
              "<style>#sk-container-id-2 {color: black;background-color: white;}#sk-container-id-2 pre{padding: 0;}#sk-container-id-2 div.sk-toggleable {background-color: white;}#sk-container-id-2 label.sk-toggleable__label {cursor: pointer;display: block;width: 100%;margin-bottom: 0;padding: 0.3em;box-sizing: border-box;text-align: center;}#sk-container-id-2 label.sk-toggleable__label-arrow:before {content: \"▸\";float: left;margin-right: 0.25em;color: #696969;}#sk-container-id-2 label.sk-toggleable__label-arrow:hover:before {color: black;}#sk-container-id-2 div.sk-estimator:hover label.sk-toggleable__label-arrow:before {color: black;}#sk-container-id-2 div.sk-toggleable__content {max-height: 0;max-width: 0;overflow: hidden;text-align: left;background-color: #f0f8ff;}#sk-container-id-2 div.sk-toggleable__content pre {margin: 0.2em;color: black;border-radius: 0.25em;background-color: #f0f8ff;}#sk-container-id-2 input.sk-toggleable__control:checked~div.sk-toggleable__content {max-height: 200px;max-width: 100%;overflow: auto;}#sk-container-id-2 input.sk-toggleable__control:checked~label.sk-toggleable__label-arrow:before {content: \"▾\";}#sk-container-id-2 div.sk-estimator input.sk-toggleable__control:checked~label.sk-toggleable__label {background-color: #d4ebff;}#sk-container-id-2 div.sk-label input.sk-toggleable__control:checked~label.sk-toggleable__label {background-color: #d4ebff;}#sk-container-id-2 input.sk-hidden--visually {border: 0;clip: rect(1px 1px 1px 1px);clip: rect(1px, 1px, 1px, 1px);height: 1px;margin: -1px;overflow: hidden;padding: 0;position: absolute;width: 1px;}#sk-container-id-2 div.sk-estimator {font-family: monospace;background-color: #f0f8ff;border: 1px dotted black;border-radius: 0.25em;box-sizing: border-box;margin-bottom: 0.5em;}#sk-container-id-2 div.sk-estimator:hover {background-color: #d4ebff;}#sk-container-id-2 div.sk-parallel-item::after {content: \"\";width: 100%;border-bottom: 1px solid gray;flex-grow: 1;}#sk-container-id-2 div.sk-label:hover label.sk-toggleable__label {background-color: #d4ebff;}#sk-container-id-2 div.sk-serial::before {content: \"\";position: absolute;border-left: 1px solid gray;box-sizing: border-box;top: 0;bottom: 0;left: 50%;z-index: 0;}#sk-container-id-2 div.sk-serial {display: flex;flex-direction: column;align-items: center;background-color: white;padding-right: 0.2em;padding-left: 0.2em;position: relative;}#sk-container-id-2 div.sk-item {position: relative;z-index: 1;}#sk-container-id-2 div.sk-parallel {display: flex;align-items: stretch;justify-content: center;background-color: white;position: relative;}#sk-container-id-2 div.sk-item::before, #sk-container-id-2 div.sk-parallel-item::before {content: \"\";position: absolute;border-left: 1px solid gray;box-sizing: border-box;top: 0;bottom: 0;left: 50%;z-index: -1;}#sk-container-id-2 div.sk-parallel-item {display: flex;flex-direction: column;z-index: 1;position: relative;background-color: white;}#sk-container-id-2 div.sk-parallel-item:first-child::after {align-self: flex-end;width: 50%;}#sk-container-id-2 div.sk-parallel-item:last-child::after {align-self: flex-start;width: 50%;}#sk-container-id-2 div.sk-parallel-item:only-child::after {width: 0;}#sk-container-id-2 div.sk-dashed-wrapped {border: 1px dashed gray;margin: 0 0.4em 0.5em 0.4em;box-sizing: border-box;padding-bottom: 0.4em;background-color: white;}#sk-container-id-2 div.sk-label label {font-family: monospace;font-weight: bold;display: inline-block;line-height: 1.2em;}#sk-container-id-2 div.sk-label-container {text-align: center;}#sk-container-id-2 div.sk-container {/* jupyter's `normalize.less` sets `[hidden] { display: none; }` but bootstrap.min.css set `[hidden] { display: none !important; }` so we also need the `!important` here to be able to override the default hidden behavior on the sphinx rendered scikit-learn.org. See: https://github.com/scikit-learn/scikit-learn/issues/21755 */display: inline-block !important;position: relative;}#sk-container-id-2 div.sk-text-repr-fallback {display: none;}</style><div id=\"sk-container-id-2\" class=\"sk-top-container\"><div class=\"sk-text-repr-fallback\"><pre>StackingRegressor(cv=5, estimators=[(&#x27;abr&#x27;, AdaBoostRegressor())],\n",
              "                  final_estimator=KNeighborsRegressor())</pre><b>In a Jupyter environment, please rerun this cell to show the HTML representation or trust the notebook. <br />On GitHub, the HTML representation is unable to render, please try loading this page with nbviewer.org.</b></div><div class=\"sk-container\" hidden><div class=\"sk-item sk-dashed-wrapped\"><div class=\"sk-label-container\"><div class=\"sk-label sk-toggleable\"><input class=\"sk-toggleable__control sk-hidden--visually\" id=\"sk-estimator-id-4\" type=\"checkbox\" ><label for=\"sk-estimator-id-4\" class=\"sk-toggleable__label sk-toggleable__label-arrow\">StackingRegressor</label><div class=\"sk-toggleable__content\"><pre>StackingRegressor(cv=5, estimators=[(&#x27;abr&#x27;, AdaBoostRegressor())],\n",
              "                  final_estimator=KNeighborsRegressor())</pre></div></div></div><div class=\"sk-serial\"><div class=\"sk-item\"><div class=\"sk-parallel\"><div class=\"sk-parallel-item\"><div class=\"sk-item\"><div class=\"sk-label-container\"><div class=\"sk-label sk-toggleable\"><label>abr</label></div></div><div class=\"sk-serial\"><div class=\"sk-item\"><div class=\"sk-estimator sk-toggleable\"><input class=\"sk-toggleable__control sk-hidden--visually\" id=\"sk-estimator-id-5\" type=\"checkbox\" ><label for=\"sk-estimator-id-5\" class=\"sk-toggleable__label sk-toggleable__label-arrow\">AdaBoostRegressor</label><div class=\"sk-toggleable__content\"><pre>AdaBoostRegressor()</pre></div></div></div></div></div></div></div></div><div class=\"sk-item\"><div class=\"sk-parallel\"><div class=\"sk-parallel-item\"><div class=\"sk-item\"><div class=\"sk-label-container\"><div class=\"sk-label sk-toggleable\"><label>final_estimator</label></div></div><div class=\"sk-serial\"><div class=\"sk-item\"><div class=\"sk-estimator sk-toggleable\"><input class=\"sk-toggleable__control sk-hidden--visually\" id=\"sk-estimator-id-6\" type=\"checkbox\" ><label for=\"sk-estimator-id-6\" class=\"sk-toggleable__label sk-toggleable__label-arrow\">KNeighborsRegressor</label><div class=\"sk-toggleable__content\"><pre>KNeighborsRegressor()</pre></div></div></div></div></div></div></div></div></div></div></div></div>"
            ]
          },
          "metadata": {},
          "execution_count": 55
        }
      ]
    },
    {
      "cell_type": "code",
      "source": [
        "y_pred = meta_model1.predict(X_train)\n",
        "y_pred1 = meta_model1.predict(X_test)\n",
        "from sklearn.metrics import r2_score\n",
        "meta_model1_score = r2_score(y_train, y_pred)\n",
        "print(meta_model1_score)\n",
        "meta_model1_score1 = r2_score(y_test, y_pred1)\n",
        "print(meta_model1_score1)"
      ],
      "metadata": {
        "colab": {
          "base_uri": "https://localhost:8080/"
        },
        "id": "KP8stnYeLLg-",
        "outputId": "1e216c91-a3d5-452b-d026-331fec1ba64f"
      },
      "execution_count": null,
      "outputs": [
        {
          "output_type": "stream",
          "name": "stdout",
          "text": [
            "0.8028625639033937\n",
            "0.8470412257924298\n"
          ]
        }
      ]
    },
    {
      "cell_type": "code",
      "source": [
        "def create_neural_network(input_shape, depth=15, batch_mod=2, num_neurons=64, drop_rate=0.1, learn_rate=.01):\n",
        "    act_reg = l1(0.02)\n",
        "    kern_reg = l1(0.02)\n",
        "    \n",
        "    inputs = Input(shape=(input_shape,))\n",
        "    batch1 = BatchNormalization()(inputs)\n",
        "    hidden1 = Dense(num_neurons, activation='relu', kernel_regularizer=kern_reg, activity_regularizer=act_reg)(batch1)\n",
        "    dropout1 = Dropout(drop_rate)(hidden1)\n",
        "    hidden2 = Dense(int(num_neurons/2), activation='relu', kernel_regularizer=kern_reg, activity_regularizer=act_reg)(dropout1)\n",
        "    \n",
        "    skip_list = [batch1]\n",
        "    last_layer_in_loop = hidden2\n",
        "    \n",
        "    for i in range(depth):\n",
        "        added_layer = concatenate(skip_list + [last_layer_in_loop])\n",
        "        skip_list.append(added_layer)\n",
        "        b1 = None\n",
        "        #Apply batch only on every i % N layers\n",
        "        if i % batch_mod == 2:\n",
        "            b1 = BatchNormalization()(added_layer)\n",
        "        else:\n",
        "            b1 = added_layer\n",
        "        \n",
        "        h1 = Dense(num_neurons, activation='relu', kernel_regularizer=kern_reg, activity_regularizer=act_reg)(b1)\n",
        "        d1 = Dropout(drop_rate)(h1)\n",
        "        h2 = Dense(int(num_neurons/2), activation='relu', kernel_regularizer=kern_reg, activity_regularizer=act_reg)(d1)\n",
        "        d2 = Dropout(drop_rate)(h2)\n",
        "        h3 =  Dense(int(num_neurons/2), activation='relu', kernel_regularizer=kern_reg, activity_regularizer=act_reg)(d2)\n",
        "        d3 = Dropout(drop_rate)(h3)\n",
        "        h4 =  Dense(int(num_neurons/2), activation='relu', kernel_regularizer=kern_reg, activity_regularizer=act_reg)(d3)\n",
        "        last_layer_in_loop = h4\n",
        "        c1 = concatenate(skip_list + [last_layer_in_loop])\n",
        "        output = Dense(1, activation='sigmoid')(c1)\n",
        "    \n",
        "    model = Model(inputs=inputs, outputs=output)\n",
        "    optimizer = Adam()\n",
        "    optimizer.learning_rate = learn_rate\n",
        "    \n",
        "    model.compile(optimizer=optimizer,\n",
        "                  loss='mse',\n",
        "                  metrics=['accuracy'])\n",
        "    return model"
      ],
      "metadata": {
        "id": "cTK9pfyHN-Lk"
      },
      "execution_count": null,
      "outputs": []
    },
    {
      "cell_type": "code",
      "source": [
        "def get_stacking(input_shape=None):\n",
        "    '''A stacking model that consists of CatBoostRegressor,\n",
        "    XGBRegressor, a linear model, and some neural networks'''\n",
        "    # First we create a list called \"level0\", which consists of our base models\"\n",
        "    # Basically, you'll want to pick a assortment of your favorite machine learning models\n",
        "    # These models will get passed down to the meta-learner later\n",
        "    level0 = list()\n",
        "    level0.append(('cat', CatBoostRegressor(verbose=False)))\n",
        "    level0.append(('rf',RandomForestRegressor(n_estimators = 1000, random_state = 42)))\n",
        "    level0.append(('ada', AdaBoostRegressor()))\n",
        "    level0.append(('cat2', CatBoostRegressor(verbose=False, learning_rate=.0001)))\n",
        "    level0.append(('xgb', XGBRegressor()))\n",
        "    level0.append(('xgb2', XGBRegressor(max_depth=5, learning_rate=.0001)))\n",
        "    level0.append(('linear', LinearRegression()))\n",
        "    #Create 5 neural networks using our function above\n",
        "    for i in range(5):\n",
        "        keras_reg = KerasRegressor(\n",
        "                create_neural_network, \n",
        "                input_shape=input_shape,\n",
        "                epochs=6,\n",
        "                batch_size=32,\n",
        "                verbose=False)\n",
        "        keras_reg._estimator_type = \"regressor\"\n",
        "        # Append to our list\n",
        "        level0.append(('nn_{num}'.format(num=i), keras_reg))\n",
        "    # The \"meta-learner\" designated as the level1 model\n",
        "    level1 = LinearRegression()\n",
        "    # Create the stacking ensemble\n",
        "    model = StackingRegressor(estimators=level0, final_estimator=level1, cv=2, verbose=1)\n",
        "    return model"
      ],
      "metadata": {
        "id": "bylbt9hWOII0"
      },
      "execution_count": null,
      "outputs": []
    },
    {
      "cell_type": "code",
      "source": [
        "#Get our input dimensions for neural network\n",
        "input_dimensions = len(X_train.columns)\n",
        "# Create stacking model\n",
        "meta_model2 = get_stacking(input_dimensions)\n",
        "meta_model2.fit(X_train, y_train.values.ravel())\n",
        "# Creating a temporary dataframe so we can see how each of our models performed\n",
        "temp = pd.DataFrame(y_val)\n",
        "# The stacked models predictions, which should perform the best\n",
        "temp['stacking_prediction'] = meta_model2.predict(X_val)\n",
        "# Get each model in the stacked model to see how they individually perform\n",
        "for m in meta_model2.named_estimators_:\n",
        "  temp[m] = meta_model2.named_estimators_[m].predict(X_val)"
      ],
      "metadata": {
        "colab": {
          "base_uri": "https://localhost:8080/"
        },
        "id": "nQhWtUfDRAa1",
        "outputId": "916f9bcb-0482-47f1-c043-a36f5112776e"
      },
      "execution_count": null,
      "outputs": [
        {
          "output_type": "stream",
          "name": "stderr",
          "text": [
            "KerasRegressor is deprecated, use Sci-Keras (https://github.com/adriangb/scikeras) instead. See https://www.adriangb.com/scikeras/stable/migration.html for help migrating.\n",
            "[Parallel(n_jobs=1)]: Using backend SequentialBackend with 1 concurrent workers.\n",
            "[Parallel(n_jobs=1)]: Done   2 out of   2 | elapsed:    1.1s finished\n",
            "[Parallel(n_jobs=1)]: Using backend SequentialBackend with 1 concurrent workers.\n",
            "[Parallel(n_jobs=1)]: Done   2 out of   2 | elapsed:    2.8s finished\n",
            "[Parallel(n_jobs=1)]: Using backend SequentialBackend with 1 concurrent workers.\n",
            "[Parallel(n_jobs=1)]: Done   2 out of   2 | elapsed:    0.1s finished\n",
            "[Parallel(n_jobs=1)]: Using backend SequentialBackend with 1 concurrent workers.\n",
            "[Parallel(n_jobs=1)]: Done   2 out of   2 | elapsed:    0.6s finished\n",
            "[Parallel(n_jobs=1)]: Using backend SequentialBackend with 1 concurrent workers.\n",
            "[Parallel(n_jobs=1)]: Done   2 out of   2 | elapsed:    0.1s finished\n",
            "[Parallel(n_jobs=1)]: Using backend SequentialBackend with 1 concurrent workers.\n",
            "[Parallel(n_jobs=1)]: Done   2 out of   2 | elapsed:    0.0s finished\n",
            "[Parallel(n_jobs=1)]: Using backend SequentialBackend with 1 concurrent workers.\n",
            "[Parallel(n_jobs=1)]: Done   2 out of   2 | elapsed:    0.0s finished\n",
            "[Parallel(n_jobs=1)]: Using backend SequentialBackend with 1 concurrent workers.\n",
            "[Parallel(n_jobs=1)]: Done   2 out of   2 | elapsed:  1.2min finished\n",
            "[Parallel(n_jobs=1)]: Using backend SequentialBackend with 1 concurrent workers.\n",
            "[Parallel(n_jobs=1)]: Done   2 out of   2 | elapsed:  1.1min finished\n",
            "[Parallel(n_jobs=1)]: Using backend SequentialBackend with 1 concurrent workers.\n",
            "[Parallel(n_jobs=1)]: Done   2 out of   2 | elapsed:  1.2min finished\n",
            "[Parallel(n_jobs=1)]: Using backend SequentialBackend with 1 concurrent workers.\n",
            "[Parallel(n_jobs=1)]: Done   2 out of   2 | elapsed:  1.1min finished\n",
            "[Parallel(n_jobs=1)]: Using backend SequentialBackend with 1 concurrent workers.\n",
            "[Parallel(n_jobs=1)]: Done   2 out of   2 | elapsed:  1.1min finished\n"
          ]
        }
      ]
    },
    {
      "cell_type": "code",
      "source": [
        "y_pred = meta_model2.predict(X_train)\n",
        "y_pred1 = meta_model2.predict(X_val)\n",
        "from sklearn.metrics import r2_score\n",
        "meta_model2_score = r2_score(y_train, y_pred)\n",
        "print(meta_model2_score)\n",
        "meta_model2_score1 = r2_score(y_val, y_pred1)\n",
        "print(meta_model2_score1)"
      ],
      "metadata": {
        "colab": {
          "base_uri": "https://localhost:8080/"
        },
        "id": "E3gw2MMoRiSz",
        "outputId": "dce6b78c-87f3-4865-fd9a-3f45a8626d03"
      },
      "execution_count": null,
      "outputs": [
        {
          "output_type": "stream",
          "name": "stdout",
          "text": [
            "0.9736622389465064\n",
            "0.880787709238854\n"
          ]
        }
      ]
    },
    {
      "cell_type": "code",
      "source": [
        "import matplotlib.pyplot as plt\n",
        "training_r2_scores=[lin_regr_score,ran_for_score,gbr_score,lasso_score,ridge_score,eln_score,knn_score,meta_model1_score,meta_model2_score]\n",
        "x_axis=['L.R.','R.F.','G.B.R.','Lasso','Ridge','E.N.','KN.N.','Meta 1','Meta 2']\n",
        "testing_r2_scores=[lin_regr_score1,ran_for_score1,gbr_score1,lasso_score1,ridge_score1,eln_score1,knn_score1,meta_model1_score1,meta_model2_score1]\n",
        "plt.bar(x_axis,training_r2_scores)\n",
        "plt.title('Training R2 scores v/s Model')\n",
        "plt.ylabel('Training R2 score')\n",
        "plt.ylim(0.6,1)\n",
        "plt.show()\n",
        "plt.bar(x_axis,testing_r2_scores)\n",
        "plt.title('Testing R2 scores v/s Model')\n",
        "plt.ylabel('Testing R2 score')\n",
        "plt.ylim(0.6,1)\n",
        "plt.show()"
      ],
      "metadata": {
        "colab": {
          "base_uri": "https://localhost:8080/",
          "height": 887
        },
        "id": "SAf2bkLSUZjA",
        "outputId": "94330f8b-38fc-4ff8-fd38-8108a9666440"
      },
      "execution_count": null,
      "outputs": [
        {
          "output_type": "display_data",
          "data": {
            "text/plain": [
              "<Figure size 640x480 with 1 Axes>"
            ],
            "image/png": "[encoded data removed]"
          },
          "metadata": {}
        },
        {
          "output_type": "display_data",
          "data": {
            "text/plain": [
              "<Figure size 640x480 with 1 Axes>"
            ],
            "image/png": "[encoded data removed]"
          },
          "metadata": {}
        }
      ]
    },
    {
      "cell_type": "code",
      "source": [
        "from tabulate import tabulate\n",
        "result=[\n",
        "  ['Model','Training R2','Testing R2'],\n",
        "  ['Linear Regression',lin_regr_score,lin_regr_score1],\n",
        "  ['Random Forest',ran_for_score,ran_for_score1],\n",
        "  ['Gradient Boosting Regression',gbr_score,gbr_score1],\n",
        "  ['Lasso Regression',lasso_score,lasso_score1],\n",
        "  ['Ridge Regression',ridge_score,ridge_score1],\n",
        "  ['Elastic Net',eln_score,eln_score1],\n",
        "  ['K Nearest Neighbor',knn_score,knn_score1],\n",
        "  ['Meta Model 1',meta_model1_score,meta_model1_score1],\n",
        "  ['Meta Model 2',meta_model2_score,meta_model2_score1]\n",
        "]\n",
        "print(tabulate(result))"
      ],
      "metadata": {
        "colab": {
          "base_uri": "https://localhost:8080/"
        },
        "id": "3lTqgOa2bEum",
        "outputId": "03d7ff41-01ee-4204-f838-578f2dd3f807"
      },
      "execution_count": null,
      "outputs": [
        {
          "output_type": "stream",
          "name": "stdout",
          "text": [
            "----------------------------  ------------------  ------------------\n",
            "Model                         Training R2         Testing R2\n",
            "Linear Regression             0.7649544640156414  0.8569099516531348\n",
            "Random Forest                 0.9614169246325794  0.8456068010546665\n",
            "Gradient Boosting Regression  0.986697562631916   0.8512286155825115\n",
            "Lasso Regression              0.7587609595533347  0.8926265382027361\n",
            "Ridge Regression              0.7573481634864512  0.9059732958621359\n",
            "Elastic Net                   0.7517026829319425  0.917261060348693\n",
            "K Nearest Neighbor            0.8284131039395215  0.925756008281763\n",
            "Meta Model 1                  0.8028625639033937  0.8470412257924298\n",
            "Meta Model 2                  0.9736622389465064  0.880787709238854\n",
            "----------------------------  ------------------  ------------------\n"
          ]
        }
      ]
    },
    {
      "cell_type": "code",
      "source": [
        "!pip install shap"
      ],
      "metadata": {
        "colab": {
          "base_uri": "https://localhost:8080/"
        },
        "id": "EC3H1oiLgDml",
        "outputId": "a03da98e-0c27-4593-d23f-0ab1d330de51"
      },
      "execution_count": null,
      "outputs": [
        {
          "output_type": "stream",
          "name": "stdout",
          "text": [
            "Looking in indexes: https://pypi.org/simple, https://us-python.pkg.dev/colab-wheels/public/simple/\n",
            "Requirement already satisfied: shap in /usr/local/lib/python3.10/dist-packages (0.41.0)\n",
            "Requirement already satisfied: numpy in /usr/local/lib/python3.10/dist-packages (from shap) (1.22.4)\n",
            "Requirement already satisfied: scipy in /usr/local/lib/python3.10/dist-packages (from shap) (1.10.1)\n",
            "Requirement already satisfied: scikit-learn in /usr/local/lib/python3.10/dist-packages (from shap) (1.2.2)\n",
            "Requirement already satisfied: pandas in /usr/local/lib/python3.10/dist-packages (from shap) (1.5.3)\n",
            "Requirement already satisfied: tqdm>4.25.0 in /usr/local/lib/python3.10/dist-packages (from shap) (4.65.0)\n",
            "Requirement already satisfied: packaging>20.9 in /usr/local/lib/python3.10/dist-packages (from shap) (23.1)\n",
            "Requirement already satisfied: slicer==0.0.7 in /usr/local/lib/python3.10/dist-packages (from shap) (0.0.7)\n",
            "Requirement already satisfied: numba in /usr/local/lib/python3.10/dist-packages (from shap) (0.56.4)\n",
            "Requirement already satisfied: cloudpickle in /usr/local/lib/python3.10/dist-packages (from shap) (2.2.1)\n",
            "Requirement already satisfied: llvmlite<0.40,>=0.39.0dev0 in /usr/local/lib/python3.10/dist-packages (from numba->shap) (0.39.1)\n",
            "Requirement already satisfied: setuptools in /usr/local/lib/python3.10/dist-packages (from numba->shap) (67.7.2)\n",
            "Requirement already satisfied: python-dateutil>=2.8.1 in /usr/local/lib/python3.10/dist-packages (from pandas->shap) (2.8.2)\n",
            "Requirement already satisfied: pytz>=2020.1 in /usr/local/lib/python3.10/dist-packages (from pandas->shap) (2022.7.1)\n",
            "Requirement already satisfied: joblib>=1.1.1 in /usr/local/lib/python3.10/dist-packages (from scikit-learn->shap) (1.2.0)\n",
            "Requirement already satisfied: threadpoolctl>=2.0.0 in /usr/local/lib/python3.10/dist-packages (from scikit-learn->shap) (3.1.0)\n",
            "Requirement already satisfied: six>=1.5 in /usr/local/lib/python3.10/dist-packages (from python-dateutil>=2.8.1->pandas->shap) (1.16.0)\n"
          ]
        }
      ]
    },
    {
      "cell_type": "code",
      "source": [
        "import shap\n",
        "explainer = shap.KernelExplainer(knn.predict, X)\n",
        "shap_values = explainer.shap_values(X)"
      ],
      "metadata": {
        "colab": {
          "base_uri": "https://localhost:8080/",
          "height": 1000,
          "referenced_widgets": [
            "f03486162c9c48f593b545ee523f25ef",
            "2e6f1fd30d8a4ee8b85bb220f24260d4",
            "298f2be4fa84490a805022bd7362e6b7",
            "51af71d9313747cb8f53014d014dab29",
            "6fa17fe8bffd4c5aa31078ac899f6966",
            "9c520249b87248e195f26b5325661073",
            "29933b20cd224d039699abdfe1a2f91b",
            "f830a98b38654377987f6268506df240",
            "11845ee8d5de42238a70371f205bb1c9",
            "c5ae2363f90e4d239b41e0d57c7de279",
            "f2fd9faa12d6458dbf0f7e0adadb4468"
          ]
        },
        "id": "LvdcXx_Qga_1",
        "outputId": "abdeea22-6e75-43d0-daf7-efba267867c8"
      },
      "execution_count": null,
      "outputs": [
        {
          "output_type": "stream",
          "name": "stderr",
          "text": [
            "X does not have valid feature names, but KNeighborsRegressor was fitted with feature names\n",
            "WARNING:shap:Using 102 background data samples could cause slower run times. Consider using shap.sample(data, K) or shap.kmeans(data, K) to summarize the background as K samples.\n"
          ]
        },
        {
          "output_type": "display_data",
          "data": {
            "text/plain": [
              "  0%|          | 0/102 [00:00<?, ?it/s]"
            ],
            "application/vnd.jupyter.widget-view+json": {
              "version_major": 2,
              "version_minor": 0,
              "model_id": "f03486162c9c48f593b545ee523f25ef"
            }
          },
          "metadata": {}
        },
        {
          "output_type": "stream",
          "name": "stderr",
          "text": [
            "X does not have valid feature names, but KNeighborsRegressor was fitted with feature names\n",
            "X does not have valid feature names, but KNeighborsRegressor was fitted with feature names\n",
            "X does not have valid feature names, but KNeighborsRegressor was fitted with feature names\n",
            "X does not have valid feature names, but KNeighborsRegressor was fitted with feature names\n",
            "X does not have valid feature names, but KNeighborsRegressor was fitted with feature names\n",
            "X does not have valid feature names, but KNeighborsRegressor was fitted with feature names\n",
            "X does not have valid feature names, but KNeighborsRegressor was fitted with feature names\n",
            "X does not have valid feature names, but KNeighborsRegressor was fitted with feature names\n",
            "X does not have valid feature names, but KNeighborsRegressor was fitted with feature names\n",
            "X does not have valid feature names, but KNeighborsRegressor was fitted with feature names\n",
            "X does not have valid feature names, but KNeighborsRegressor was fitted with feature names\n",
            "X does not have valid feature names, but KNeighborsRegressor was fitted with feature names\n",
            "X does not have valid feature names, but KNeighborsRegressor was fitted with feature names\n",
            "X does not have valid feature names, but KNeighborsRegressor was fitted with feature names\n",
            "X does not have valid feature names, but KNeighborsRegressor was fitted with feature names\n",
            "X does not have valid feature names, but KNeighborsRegressor was fitted with feature names\n",
            "X does not have valid feature names, but KNeighborsRegressor was fitted with feature names\n",
            "X does not have valid feature names, but KNeighborsRegressor was fitted with feature names\n",
            "X does not have valid feature names, but KNeighborsRegressor was fitted with feature names\n",
            "X does not have valid feature names, but KNeighborsRegressor was fitted with feature names\n",
            "X does not have valid feature names, but KNeighborsRegressor was fitted with feature names\n",
            "X does not have valid feature names, but KNeighborsRegressor was fitted with feature names\n",
            "X does not have valid feature names, but KNeighborsRegressor was fitted with feature names\n",
            "X does not have valid feature names, but KNeighborsRegressor was fitted with feature names\n",
            "X does not have valid feature names, but KNeighborsRegressor was fitted with feature names\n",
            "X does not have valid feature names, but KNeighborsRegressor was fitted with feature names\n",
            "X does not have valid feature names, but KNeighborsRegressor was fitted with feature names\n",
            "X does not have valid feature names, but KNeighborsRegressor was fitted with feature names\n",
            "X does not have valid feature names, but KNeighborsRegressor was fitted with feature names\n",
            "X does not have valid feature names, but KNeighborsRegressor was fitted with feature names\n",
            "X does not have valid feature names, but KNeighborsRegressor was fitted with feature names\n",
            "X does not have valid feature names, but KNeighborsRegressor was fitted with feature names\n",
            "X does not have valid feature names, but KNeighborsRegressor was fitted with feature names\n",
            "X does not have valid feature names, but KNeighborsRegressor was fitted with feature names\n",
            "X does not have valid feature names, but KNeighborsRegressor was fitted with feature names\n",
            "X does not have valid feature names, but KNeighborsRegressor was fitted with feature names\n",
            "X does not have valid feature names, but KNeighborsRegressor was fitted with feature names\n",
            "X does not have valid feature names, but KNeighborsRegressor was fitted with feature names\n",
            "X does not have valid feature names, but KNeighborsRegressor was fitted with feature names\n",
            "X does not have valid feature names, but KNeighborsRegressor was fitted with feature names\n",
            "X does not have valid feature names, but KNeighborsRegressor was fitted with feature names\n",
            "X does not have valid feature names, but KNeighborsRegressor was fitted with feature names\n",
            "X does not have valid feature names, but KNeighborsRegressor was fitted with feature names\n",
            "X does not have valid feature names, but KNeighborsRegressor was fitted with feature names\n",
            "X does not have valid feature names, but KNeighborsRegressor was fitted with feature names\n",
            "X does not have valid feature names, but KNeighborsRegressor was fitted with feature names\n",
            "X does not have valid feature names, but KNeighborsRegressor was fitted with feature names\n",
            "X does not have valid feature names, but KNeighborsRegressor was fitted with feature names\n",
            "X does not have valid feature names, but KNeighborsRegressor was fitted with feature names\n",
            "X does not have valid feature names, but KNeighborsRegressor was fitted with feature names\n",
            "X does not have valid feature names, but KNeighborsRegressor was fitted with feature names\n",
            "X does not have valid feature names, but KNeighborsRegressor was fitted with feature names\n",
            "X does not have valid feature names, but KNeighborsRegressor was fitted with feature names\n",
            "X does not have valid feature names, but KNeighborsRegressor was fitted with feature names\n",
            "X does not have valid feature names, but KNeighborsRegressor was fitted with feature names\n",
            "X does not have valid feature names, but KNeighborsRegressor was fitted with feature names\n",
            "X does not have valid feature names, but KNeighborsRegressor was fitted with feature names\n",
            "X does not have valid feature names, but KNeighborsRegressor was fitted with feature names\n",
            "X does not have valid feature names, but KNeighborsRegressor was fitted with feature names\n",
            "X does not have valid feature names, but KNeighborsRegressor was fitted with feature names\n",
            "X does not have valid feature names, but KNeighborsRegressor was fitted with feature names\n",
            "X does not have valid feature names, but KNeighborsRegressor was fitted with feature names\n",
            "X does not have valid feature names, but KNeighborsRegressor was fitted with feature names\n",
            "X does not have valid feature names, but KNeighborsRegressor was fitted with feature names\n",
            "X does not have valid feature names, but KNeighborsRegressor was fitted with feature names\n",
            "X does not have valid feature names, but KNeighborsRegressor was fitted with feature names\n",
            "X does not have valid feature names, but KNeighborsRegressor was fitted with feature names\n",
            "X does not have valid feature names, but KNeighborsRegressor was fitted with feature names\n",
            "X does not have valid feature names, but KNeighborsRegressor was fitted with feature names\n",
            "X does not have valid feature names, but KNeighborsRegressor was fitted with feature names\n",
            "X does not have valid feature names, but KNeighborsRegressor was fitted with feature names\n",
            "X does not have valid feature names, but KNeighborsRegressor was fitted with feature names\n",
            "X does not have valid feature names, but KNeighborsRegressor was fitted with feature names\n",
            "X does not have valid feature names, but KNeighborsRegressor was fitted with feature names\n",
            "X does not have valid feature names, but KNeighborsRegressor was fitted with feature names\n",
            "X does not have valid feature names, but KNeighborsRegressor was fitted with feature names\n",
            "X does not have valid feature names, but KNeighborsRegressor was fitted with feature names\n",
            "X does not have valid feature names, but KNeighborsRegressor was fitted with feature names\n",
            "X does not have valid feature names, but KNeighborsRegressor was fitted with feature names\n",
            "X does not have valid feature names, but KNeighborsRegressor was fitted with feature names\n",
            "X does not have valid feature names, but KNeighborsRegressor was fitted with feature names\n",
            "X does not have valid feature names, but KNeighborsRegressor was fitted with feature names\n",
            "X does not have valid feature names, but KNeighborsRegressor was fitted with feature names\n",
            "X does not have valid feature names, but KNeighborsRegressor was fitted with feature names\n",
            "X does not have valid feature names, but KNeighborsRegressor was fitted with feature names\n",
            "X does not have valid feature names, but KNeighborsRegressor was fitted with feature names\n",
            "X does not have valid feature names, but KNeighborsRegressor was fitted with feature names\n",
            "X does not have valid feature names, but KNeighborsRegressor was fitted with feature names\n",
            "X does not have valid feature names, but KNeighborsRegressor was fitted with feature names\n",
            "X does not have valid feature names, but KNeighborsRegressor was fitted with feature names\n",
            "X does not have valid feature names, but KNeighborsRegressor was fitted with feature names\n",
            "X does not have valid feature names, but KNeighborsRegressor was fitted with feature names\n",
            "X does not have valid feature names, but KNeighborsRegressor was fitted with feature names\n",
            "X does not have valid feature names, but KNeighborsRegressor was fitted with feature names\n",
            "X does not have valid feature names, but KNeighborsRegressor was fitted with feature names\n",
            "X does not have valid feature names, but KNeighborsRegressor was fitted with feature names\n",
            "X does not have valid feature names, but KNeighborsRegressor was fitted with feature names\n",
            "X does not have valid feature names, but KNeighborsRegressor was fitted with feature names\n",
            "X does not have valid feature names, but KNeighborsRegressor was fitted with feature names\n",
            "X does not have valid feature names, but KNeighborsRegressor was fitted with feature names\n",
            "X does not have valid feature names, but KNeighborsRegressor was fitted with feature names\n",
            "X does not have valid feature names, but KNeighborsRegressor was fitted with feature names\n",
            "X does not have valid feature names, but KNeighborsRegressor was fitted with feature names\n",
            "X does not have valid feature names, but KNeighborsRegressor was fitted with feature names\n",
            "X does not have valid feature names, but KNeighborsRegressor was fitted with feature names\n",
            "X does not have valid feature names, but KNeighborsRegressor was fitted with feature names\n",
            "X does not have valid feature names, but KNeighborsRegressor was fitted with feature names\n",
            "X does not have valid feature names, but KNeighborsRegressor was fitted with feature names\n",
            "X does not have valid feature names, but KNeighborsRegressor was fitted with feature names\n",
            "X does not have valid feature names, but KNeighborsRegressor was fitted with feature names\n",
            "X does not have valid feature names, but KNeighborsRegressor was fitted with feature names\n",
            "X does not have valid feature names, but KNeighborsRegressor was fitted with feature names\n",
            "X does not have valid feature names, but KNeighborsRegressor was fitted with feature names\n",
            "X does not have valid feature names, but KNeighborsRegressor was fitted with feature names\n",
            "X does not have valid feature names, but KNeighborsRegressor was fitted with feature names\n",
            "X does not have valid feature names, but KNeighborsRegressor was fitted with feature names\n",
            "X does not have valid feature names, but KNeighborsRegressor was fitted with feature names\n",
            "X does not have valid feature names, but KNeighborsRegressor was fitted with feature names\n",
            "X does not have valid feature names, but KNeighborsRegressor was fitted with feature names\n",
            "X does not have valid feature names, but KNeighborsRegressor was fitted with feature names\n",
            "X does not have valid feature names, but KNeighborsRegressor was fitted with feature names\n",
            "X does not have valid feature names, but KNeighborsRegressor was fitted with feature names\n",
            "X does not have valid feature names, but KNeighborsRegressor was fitted with feature names\n",
            "X does not have valid feature names, but KNeighborsRegressor was fitted with feature names\n",
            "X does not have valid feature names, but KNeighborsRegressor was fitted with feature names\n",
            "X does not have valid feature names, but KNeighborsRegressor was fitted with feature names\n",
            "X does not have valid feature names, but KNeighborsRegressor was fitted with feature names\n",
            "X does not have valid feature names, but KNeighborsRegressor was fitted with feature names\n",
            "X does not have valid feature names, but KNeighborsRegressor was fitted with feature names\n",
            "X does not have valid feature names, but KNeighborsRegressor was fitted with feature names\n",
            "X does not have valid feature names, but KNeighborsRegressor was fitted with feature names\n",
            "X does not have valid feature names, but KNeighborsRegressor was fitted with feature names\n",
            "X does not have valid feature names, but KNeighborsRegressor was fitted with feature names\n",
            "X does not have valid feature names, but KNeighborsRegressor was fitted with feature names\n",
            "X does not have valid feature names, but KNeighborsRegressor was fitted with feature names\n",
            "X does not have valid feature names, but KNeighborsRegressor was fitted with feature names\n",
            "X does not have valid feature names, but KNeighborsRegressor was fitted with feature names\n",
            "X does not have valid feature names, but KNeighborsRegressor was fitted with feature names\n",
            "X does not have valid feature names, but KNeighborsRegressor was fitted with feature names\n",
            "X does not have valid feature names, but KNeighborsRegressor was fitted with feature names\n",
            "X does not have valid feature names, but KNeighborsRegressor was fitted with feature names\n",
            "X does not have valid feature names, but KNeighborsRegressor was fitted with feature names\n",
            "X does not have valid feature names, but KNeighborsRegressor was fitted with feature names\n",
            "X does not have valid feature names, but KNeighborsRegressor was fitted with feature names\n",
            "X does not have valid feature names, but KNeighborsRegressor was fitted with feature names\n",
            "X does not have valid feature names, but KNeighborsRegressor was fitted with feature names\n",
            "X does not have valid feature names, but KNeighborsRegressor was fitted with feature names\n",
            "X does not have valid feature names, but KNeighborsRegressor was fitted with feature names\n",
            "X does not have valid feature names, but KNeighborsRegressor was fitted with feature names\n",
            "X does not have valid feature names, but KNeighborsRegressor was fitted with feature names\n",
            "X does not have valid feature names, but KNeighborsRegressor was fitted with feature names\n",
            "X does not have valid feature names, but KNeighborsRegressor was fitted with feature names\n",
            "X does not have valid feature names, but KNeighborsRegressor was fitted with feature names\n",
            "X does not have valid feature names, but KNeighborsRegressor was fitted with feature names\n",
            "X does not have valid feature names, but KNeighborsRegressor was fitted with feature names\n",
            "X does not have valid feature names, but KNeighborsRegressor was fitted with feature names\n",
            "X does not have valid feature names, but KNeighborsRegressor was fitted with feature names\n",
            "X does not have valid feature names, but KNeighborsRegressor was fitted with feature names\n",
            "X does not have valid feature names, but KNeighborsRegressor was fitted with feature names\n",
            "X does not have valid feature names, but KNeighborsRegressor was fitted with feature names\n",
            "X does not have valid feature names, but KNeighborsRegressor was fitted with feature names\n",
            "X does not have valid feature names, but KNeighborsRegressor was fitted with feature names\n",
            "X does not have valid feature names, but KNeighborsRegressor was fitted with feature names\n",
            "X does not have valid feature names, but KNeighborsRegressor was fitted with feature names\n",
            "X does not have valid feature names, but KNeighborsRegressor was fitted with feature names\n",
            "X does not have valid feature names, but KNeighborsRegressor was fitted with feature names\n",
            "X does not have valid feature names, but KNeighborsRegressor was fitted with feature names\n",
            "X does not have valid feature names, but KNeighborsRegressor was fitted with feature names\n",
            "X does not have valid feature names, but KNeighborsRegressor was fitted with feature names\n",
            "X does not have valid feature names, but KNeighborsRegressor was fitted with feature names\n",
            "X does not have valid feature names, but KNeighborsRegressor was fitted with feature names\n",
            "X does not have valid feature names, but KNeighborsRegressor was fitted with feature names\n",
            "X does not have valid feature names, but KNeighborsRegressor was fitted with feature names\n",
            "X does not have valid feature names, but KNeighborsRegressor was fitted with feature names\n",
            "X does not have valid feature names, but KNeighborsRegressor was fitted with feature names\n",
            "X does not have valid feature names, but KNeighborsRegressor was fitted with feature names\n",
            "X does not have valid feature names, but KNeighborsRegressor was fitted with feature names\n",
            "X does not have valid feature names, but KNeighborsRegressor was fitted with feature names\n",
            "X does not have valid feature names, but KNeighborsRegressor was fitted with feature names\n",
            "X does not have valid feature names, but KNeighborsRegressor was fitted with feature names\n",
            "X does not have valid feature names, but KNeighborsRegressor was fitted with feature names\n",
            "X does not have valid feature names, but KNeighborsRegressor was fitted with feature names\n",
            "X does not have valid feature names, but KNeighborsRegressor was fitted with feature names\n",
            "X does not have valid feature names, but KNeighborsRegressor was fitted with feature names\n",
            "X does not have valid feature names, but KNeighborsRegressor was fitted with feature names\n",
            "X does not have valid feature names, but KNeighborsRegressor was fitted with feature names\n",
            "X does not have valid feature names, but KNeighborsRegressor was fitted with feature names\n",
            "X does not have valid feature names, but KNeighborsRegressor was fitted with feature names\n",
            "X does not have valid feature names, but KNeighborsRegressor was fitted with feature names\n",
            "X does not have valid feature names, but KNeighborsRegressor was fitted with feature names\n",
            "X does not have valid feature names, but KNeighborsRegressor was fitted with feature names\n",
            "X does not have valid feature names, but KNeighborsRegressor was fitted with feature names\n",
            "X does not have valid feature names, but KNeighborsRegressor was fitted with feature names\n",
            "X does not have valid feature names, but KNeighborsRegressor was fitted with feature names\n",
            "X does not have valid feature names, but KNeighborsRegressor was fitted with feature names\n",
            "X does not have valid feature names, but KNeighborsRegressor was fitted with feature names\n",
            "X does not have valid feature names, but KNeighborsRegressor was fitted with feature names\n",
            "X does not have valid feature names, but KNeighborsRegressor was fitted with feature names\n",
            "X does not have valid feature names, but KNeighborsRegressor was fitted with feature names\n",
            "X does not have valid feature names, but KNeighborsRegressor was fitted with feature names\n",
            "X does not have valid feature names, but KNeighborsRegressor was fitted with feature names\n",
            "X does not have valid feature names, but KNeighborsRegressor was fitted with feature names\n",
            "X does not have valid feature names, but KNeighborsRegressor was fitted with feature names\n",
            "X does not have valid feature names, but KNeighborsRegressor was fitted with feature names\n"
          ]
        }
      ]
    },
    {
      "cell_type": "code",
      "source": [
        "shap.summary_plot(shap_values, X, plot_type='bar')"
      ],
      "metadata": {
        "colab": {
          "base_uri": "https://localhost:8080/",
          "height": 797
        },
        "id": "G7Fu3_xG9TR8",
        "outputId": "fe6f3d21-76b1-4cfc-d244-cb056a106b94"
      },
      "execution_count": null,
      "outputs": [
        {
          "output_type": "display_data",
          "data": {
            "text/plain": [
              "<Figure size 800x790 with 1 Axes>"
            ],
            "image/png": "[encoded data removed]"
          },
          "metadata": {}
        }
      ]
    },
    {
      "cell_type": "code",
      "source": [
        "shap.summary_plot(shap_values, X, plot_type='violin')"
      ],
      "metadata": {
        "colab": {
          "base_uri": "https://localhost:8080/",
          "height": 814
        },
        "id": "5rl79zCd9twH",
        "outputId": "48594fc4-370c-4b91-d26a-595c176b2124"
      },
      "execution_count": null,
      "outputs": [
        {
          "output_type": "stream",
          "name": "stderr",
          "text": [
            "No data for colormapping provided via 'c'. Parameters 'vmin', 'vmax' will be ignored\n"
          ]
        },
        {
          "output_type": "display_data",
          "data": {
            "text/plain": [
              "<Figure size 800x790 with 2 Axes>"
            ],
            "image/png": "[encoded data removed]"
          },
          "metadata": {}
        }
      ]
    }
  ]
}